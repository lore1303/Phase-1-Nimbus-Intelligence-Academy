{
 "cells": [
  {
   "cell_type": "markdown",
   "id": "db18d211",
   "metadata": {},
   "source": [
    "Create and call a python function that : \n",
    "- stores a random integer A between 1 and 9\n",
    "- stores a random integer B between 1 and 9\n",
    "- multiplies A and B together as C\n",
    "- Prints A and C for every result until C = 4\n",
    "- If C = 4 , print ‘Success!’ and the results for A and B\n",
    "- Store your code on a GitHub account and share it with the email-address given in the SQL test, including your CV"
   ]
  },
  {
   "cell_type": "code",
   "execution_count": null,
   "id": "3e2a6ffb",
   "metadata": {},
   "outputs": [],
   "source": [
    "import random"
   ]
  },
  {
   "cell_type": "code",
   "execution_count": null,
   "id": "b379cf9b",
   "metadata": {},
   "outputs": [],
   "source": [
    "def my_function(A,B):\n",
    "    C=A*B\n",
    "    if C<4:\n",
    "        print('A =', A)\n",
    "        print('C =', C)\n",
    "    elif C==4:\n",
    "        print('Success!')\n",
    "        print('A =', A)\n",
    "        print('B =', B)\n",
    "    else:\n",
    "        print('C > 4 because A =', A, 'and B =', B)\n",
    "\n",
    "my_function(random.randint(1,9),random.randint(1,9))"
   ]
  }
 ],
 "metadata": {
  "kernelspec": {
   "display_name": "Python 3",
   "language": "python",
   "name": "python3"
  },
  "language_info": {
   "codemirror_mode": {
    "name": "ipython",
    "version": 3
   },
   "file_extension": ".py",
   "mimetype": "text/x-python",
   "name": "python",
   "nbconvert_exporter": "python",
   "pygments_lexer": "ipython3",
   "version": "3.8.8"
  }
 },
 "nbformat": 4,
 "nbformat_minor": 5
}
